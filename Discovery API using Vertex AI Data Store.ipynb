{
  "cells": [
    {
      "cell_type": "code",
      "id": "w5wmJeUlimZ0b0cJNvNt9zod",
      "metadata": {
        "tags": [],
        "id": "w5wmJeUlimZ0b0cJNvNt9zod"
      },
      "source": [
        "!pip install google-cloud-discoveryengine"
      ],
      "execution_count": null,
      "outputs": []
    },
    {
      "cell_type": "code",
      "source": [
        "# Restart kernel after installs so that your environment can access the new packages\n",
        "import IPython\n",
        "\n",
        "app = IPython.Application.instance()\n",
        "app.kernel.do_shutdown(True)"
      ],
      "metadata": {
        "id": "kcBu4zZuh_qX"
      },
      "id": "kcBu4zZuh_qX",
      "execution_count": null,
      "outputs": []
    },
    {
      "cell_type": "code",
      "source": [
        "LOCATION = \"global\"\n",
        "DATA_STORE_ID = \"python-programming-data-st_1709560381748\"\n",
        "\n",
        "# get project ID\n",
        "PROJECT_ID = ! gcloud config get-value project\n",
        "PROJECT_ID = PROJECT_ID[0]\n",
        "\n",
        "print(PROJECT_ID)"
      ],
      "metadata": {
        "colab": {
          "base_uri": "https://localhost:8080/"
        },
        "id": "T5rrtEQ6iDNF",
        "executionInfo": {
          "status": "ok",
          "timestamp": 1709597841604,
          "user_tz": 300,
          "elapsed": 1276,
          "user": {
            "displayName": "",
            "userId": ""
          }
        },
        "outputId": "45b0becb-0ef2-414d-f477-eeaa46a6fee2"
      },
      "id": "T5rrtEQ6iDNF",
      "execution_count": 2,
      "outputs": [
        {
          "output_type": "stream",
          "name": "stdout",
          "text": [
            "vertext-ai-dar\n"
          ]
        }
      ]
    },
    {
      "cell_type": "code",
      "source": [
        "from typing import List\n",
        "\n",
        "from google.api_core.client_options import ClientOptions\n",
        "from google.cloud import discoveryengine_v1 as discoveryengine"
      ],
      "metadata": {
        "id": "qd8WOYmOiZVz",
        "executionInfo": {
          "status": "ok",
          "timestamp": 1709597844986,
          "user_tz": 300,
          "elapsed": 1002,
          "user": {
            "displayName": "",
            "userId": ""
          }
        }
      },
      "id": "qd8WOYmOiZVz",
      "execution_count": 3,
      "outputs": []
    },
    {
      "cell_type": "code",
      "source": [
        "def search_data_store(\n",
        "    project_id: str,\n",
        "    location: str,\n",
        "    data_store_id: str,\n",
        "    search_query: str,\n",
        ") -> List[discoveryengine.SearchResponse]:\n",
        "\n",
        "    client_options = (\n",
        "        ClientOptions(api_endpoint=f\"{location}-discoveryengine.googleapis.com\")\n",
        "        if location != \"global\"\n",
        "        else None\n",
        "    )\n",
        "\n",
        "    # Create a client\n",
        "    client = discoveryengine.SearchServiceClient(client_options=client_options)\n",
        "\n",
        "    serving_config = client.serving_config_path(\n",
        "        project=project_id,\n",
        "        location=location,\n",
        "        data_store=data_store_id,\n",
        "        serving_config=\"default_config\",\n",
        "    )\n",
        "\n",
        "    content_search_spec = discoveryengine.SearchRequest.ContentSearchSpec(\n",
        "        snippet_spec=discoveryengine.SearchRequest.ContentSearchSpec.SnippetSpec(\n",
        "            return_snippet=True\n",
        "        ),\n",
        "        summary_spec=discoveryengine.SearchRequest.ContentSearchSpec.SummarySpec(\n",
        "            summary_result_count=5,\n",
        "            include_citations=True,\n",
        "            ignore_adversarial_query=True,\n",
        "            ignore_non_summary_seeking_query=True,\n",
        "        ),\n",
        "    )\n",
        "\n",
        "    request = discoveryengine.SearchRequest(\n",
        "        serving_config=serving_config,\n",
        "        query=search_query,\n",
        "        page_size=10,\n",
        "        content_search_spec=content_search_spec,\n",
        "        query_expansion_spec=discoveryengine.SearchRequest.QueryExpansionSpec(\n",
        "            condition=discoveryengine.SearchRequest.QueryExpansionSpec.Condition.AUTO,\n",
        "        ),\n",
        "        spell_correction_spec=discoveryengine.SearchRequest.SpellCorrectionSpec(\n",
        "            mode=discoveryengine.SearchRequest.SpellCorrectionSpec.Mode.AUTO\n",
        "        ),\n",
        "    )\n",
        "\n",
        "    response = client.search(request)\n",
        "    #print(response)\n",
        "\n",
        "    return response"
      ],
      "metadata": {
        "id": "5r0ouLj7iafO",
        "executionInfo": {
          "status": "ok",
          "timestamp": 1709597847102,
          "user_tz": 300,
          "elapsed": 160,
          "user": {
            "displayName": "",
            "userId": ""
          }
        }
      },
      "id": "5r0ouLj7iafO",
      "execution_count": 4,
      "outputs": []
    },
    {
      "cell_type": "code",
      "source": [
        "search_query = \"How do I write a for loop in Python\"\n",
        "\n",
        "response = search_data_store(PROJECT_ID, LOCATION, DATA_STORE_ID, search_query)\n",
        "\n",
        "#print(response.results[0])"
      ],
      "metadata": {
        "id": "_GwZKOLkjvOf",
        "executionInfo": {
          "status": "ok",
          "timestamp": 1709597897654,
          "user_tz": 300,
          "elapsed": 577,
          "user": {
            "displayName": "",
            "userId": ""
          }
        }
      },
      "id": "_GwZKOLkjvOf",
      "execution_count": 7,
      "outputs": []
    },
    {
      "cell_type": "code",
      "source": [
        "from IPython.display import HTML\n",
        "\n",
        "for result in response.results:\n",
        "   display(HTML(result.document.derived_struct_data[\"htmlTitle\"]))\n",
        "   display(HTML(result.document.derived_struct_data[\"snippets\"][0][\"htmlSnippet\"]))\n",
        "   print(result.document.derived_struct_data[\"formattedUrl\"])\n",
        "   print()"
      ],
      "metadata": {
        "colab": {
          "base_uri": "https://localhost:8080/",
          "height": 904
        },
        "id": "w3qfFZ7XorIG",
        "executionInfo": {
          "status": "ok",
          "timestamp": 1709597899639,
          "user_tz": 300,
          "elapsed": 11,
          "user": {
            "displayName": "",
            "userId": ""
          }
        },
        "outputId": "ff70d527-ad4c-4ac2-9beb-c7b096da8000"
      },
      "id": "w3qfFZ7XorIG",
      "execution_count": 8,
      "outputs": [
        {
          "output_type": "display_data",
          "data": {
            "text/plain": [
              "<IPython.core.display.HTML object>"
            ],
            "text/html": [
              "<b>Python</b> For <b>Loops</b>"
            ]
          },
          "metadata": {}
        },
        {
          "output_type": "display_data",
          "data": {
            "text/plain": [
              "<IPython.core.display.HTML object>"
            ],
            "text/html": [
              "<b>Python</b> For <b>Loops</b>. A for <b>loop</b> is used for iterating over a sequence (that is either a list, a tuple, a dictionary, a set, or a string). This is less like the&nbsp;..."
            ]
          },
          "metadata": {}
        },
        {
          "output_type": "stream",
          "name": "stdout",
          "text": [
            "https://www.w3schools.com/python/python_for_loops.asp\n",
            "\n"
          ]
        },
        {
          "output_type": "display_data",
          "data": {
            "text/plain": [
              "<IPython.core.display.HTML object>"
            ],
            "text/html": [
              "<b>Python</b> While <b>Loops</b>"
            ]
          },
          "metadata": {}
        },
        {
          "output_type": "display_data",
          "data": {
            "text/plain": [
              "<IPython.core.display.HTML object>"
            ],
            "text/html": [
              "<b>Python</b> While <b>Loops</b> &middot; ExampleGet your own <b>Python</b> Server. <b>Print</b> i as long as i is less than 6: i = 1 while i &lt; 6: <b>print</b>(i) &middot; Example. Exit the <b>loop</b> when i is 3: i =&nbsp;..."
            ]
          },
          "metadata": {}
        },
        {
          "output_type": "stream",
          "name": "stdout",
          "text": [
            "https://www.w3schools.com/python/python_while_loops.asp\n",
            "\n"
          ]
        },
        {
          "output_type": "display_data",
          "data": {
            "text/plain": [
              "<IPython.core.display.HTML object>"
            ],
            "text/html": [
              "Event <b>Loop</b> — <b>Python</b> 3.12.2 documentation"
            ]
          },
          "metadata": {}
        },
        {
          "output_type": "display_data",
          "data": {
            "text/plain": [
              "<IPython.core.display.HTML object>"
            ],
            "text/html": [
              "This is the preferred way to <b>create</b> Futures in asyncio. This lets third-party event <b>loops</b> provide alternative implementations of the Future object (with better&nbsp;..."
            ]
          },
          "metadata": {}
        },
        {
          "output_type": "stream",
          "name": "stdout",
          "text": [
            "https://docs.python.org/3/library/asyncio-eventloop.html\n",
            "\n"
          ]
        },
        {
          "output_type": "display_data",
          "data": {
            "text/plain": [
              "<IPython.core.display.HTML object>"
            ],
            "text/html": [
              "4. More Control Flow Tools — <b>Python</b> 3.12.2 documentation"
            ]
          },
          "metadata": {}
        },
        {
          "output_type": "display_data",
          "data": {
            "text/plain": [
              "<IPython.core.display.HTML object>"
            ],
            "text/html": [
              "Instead, it is usually more straight-forward to <b>loop</b> over a copy of the collection or to <b>create</b> a new collection: # <b>Create</b> a sample collection users&nbsp;..."
            ]
          },
          "metadata": {}
        },
        {
          "output_type": "stream",
          "name": "stdout",
          "text": [
            "https://docs.python.org/3/tutorial/controlflow.html\n",
            "\n"
          ]
        },
        {
          "output_type": "display_data",
          "data": {
            "text/plain": [
              "<IPython.core.display.HTML object>"
            ],
            "text/html": [
              "<b>Programming</b> FAQ — <b>Python</b> 3.12.2 documentation"
            ]
          },
          "metadata": {}
        },
        {
          "output_type": "display_data",
          "data": {
            "text/plain": [
              "<IPython.core.display.HTML object>"
            ],
            "text/html": [
              "Why do lambdas defined in a <b>loop</b> with different values all return the same result? ... <b>How do I create</b> static class data and static class methods? How can I&nbsp;..."
            ]
          },
          "metadata": {}
        },
        {
          "output_type": "stream",
          "name": "stdout",
          "text": [
            "https://docs.python.org/3/faq/programming.html\n",
            "\n"
          ]
        },
        {
          "output_type": "display_data",
          "data": {
            "text/plain": [
              "<IPython.core.display.HTML object>"
            ],
            "text/html": [
              "<b>Python</b> Conditions and If <b>statements</b>"
            ]
          },
          "metadata": {}
        },
        {
          "output_type": "display_data",
          "data": {
            "text/plain": [
              "<IPython.core.display.HTML object>"
            ],
            "text/html": [
              "<b>Python</b> supports the usual logical conditions from mathematics: ... These conditions can be used in several ways, most commonly in &quot;if <b>statements</b>&quot; and <b>loops</b>. An &quot;&nbsp;..."
            ]
          },
          "metadata": {}
        },
        {
          "output_type": "stream",
          "name": "stdout",
          "text": [
            "https://www.w3schools.com/python/python_conditions.asp\n",
            "\n"
          ]
        },
        {
          "output_type": "display_data",
          "data": {
            "text/plain": [
              "<IPython.core.display.HTML object>"
            ],
            "text/html": [
              "<b>Python</b> - <b>Loop</b> Lists"
            ]
          },
          "metadata": {}
        },
        {
          "output_type": "display_data",
          "data": {
            "text/plain": [
              "<IPython.core.display.HTML object>"
            ],
            "text/html": [
              "You can also <b>loop</b> through the list items by referring to their index number. Use the range() and len() functions to <b>create</b> a suitable iterable. Example. <b>Print</b>&nbsp;..."
            ]
          },
          "metadata": {}
        },
        {
          "output_type": "stream",
          "name": "stdout",
          "text": [
            "https://www.w3schools.com/python/python_lists_loop.asp\n",
            "\n"
          ]
        },
        {
          "output_type": "display_data",
          "data": {
            "text/plain": [
              "<IPython.core.display.HTML object>"
            ],
            "text/html": [
              "8. Compound <b>statements</b> — <b>Python</b> 3.12.2 documentation"
            ]
          },
          "metadata": {}
        },
        {
          "output_type": "display_data",
          "data": {
            "text/plain": [
              "<IPython.core.display.HTML object>"
            ],
            "text/html": [
              "... <b>loop</b> terminates. A break <b>statement</b> executed in the first suite terminates the ... You can also <b>write</b> multi-item context managers in multiple lines if the&nbsp;..."
            ]
          },
          "metadata": {}
        },
        {
          "output_type": "stream",
          "name": "stdout",
          "text": [
            "https://docs.python.org/3/reference/compound_stmts.html\n",
            "\n"
          ]
        },
        {
          "output_type": "display_data",
          "data": {
            "text/plain": [
              "<IPython.core.display.HTML object>"
            ],
            "text/html": [
              "<b>Python</b> - <b>Loop</b> Dictionaries"
            ]
          },
          "metadata": {}
        },
        {
          "output_type": "display_data",
          "data": {
            "text/plain": [
              "<IPython.core.display.HTML object>"
            ],
            "text/html": [
              "You can <b>loop</b> through a dictionary by using a for <b>loop</b>. When <b>looping</b> through a dictionary, the return value are the keys of the dictionary, but there are methods&nbsp;..."
            ]
          },
          "metadata": {}
        },
        {
          "output_type": "stream",
          "name": "stdout",
          "text": [
            "https://www.w3schools.com/python/python_dictionaries_loop.asp\n",
            "\n"
          ]
        },
        {
          "output_type": "display_data",
          "data": {
            "text/plain": [
              "<IPython.core.display.HTML object>"
            ],
            "text/html": [
              "<b>Python Loop</b> Through a Dictionary"
            ]
          },
          "metadata": {}
        },
        {
          "output_type": "display_data",
          "data": {
            "text/plain": [
              "<IPython.core.display.HTML object>"
            ],
            "text/html": [
              "You can <b>loop</b> through a dictionary by using a for <b>loop</b>. When <b>looping</b> through a dictionary, the return value are the keys of the dictionary, but there are methods&nbsp;..."
            ]
          },
          "metadata": {}
        },
        {
          "output_type": "stream",
          "name": "stdout",
          "text": [
            "https://www.w3schools.com/python/gloss_python_loop_dictionary_items.asp\n",
            "\n"
          ]
        }
      ]
    },
    {
      "cell_type": "code",
      "source": [],
      "metadata": {
        "id": "tfoIcgeclQmv"
      },
      "id": "tfoIcgeclQmv",
      "execution_count": null,
      "outputs": []
    },
    {
      "cell_type": "code",
      "source": [],
      "metadata": {
        "id": "KdExcLCJoUIC"
      },
      "id": "KdExcLCJoUIC",
      "execution_count": null,
      "outputs": []
    }
  ],
  "metadata": {
    "kernelspec": {
      "display_name": "Python 3",
      "language": "python",
      "name": "python3"
    },
    "language_info": {
      "codemirror_mode": {
        "name": "ipython",
        "version": 3
      },
      "file_extension": ".py",
      "mimetype": "text/x-python",
      "name": "python",
      "nbconvert_exporter": "python",
      "pygments_lexer": "ipython3",
      "version": "3.10.10"
    },
    "colab": {
      "provenance": []
    }
  },
  "nbformat": 4,
  "nbformat_minor": 5
}