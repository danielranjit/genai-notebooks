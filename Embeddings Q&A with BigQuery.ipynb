{
  "cells": [
    {
      "cell_type": "code",
      "metadata": {
        "tags": [],
        "id": "Y0r19Litu1yTVwvcGAGgt1IF"
      },
      "source": [
        "!pip install --upgrade --user google-cloud-aiplatform google-cloud-storage langchain-google-vertexai google-cloud-bigquery"
      ],
      "execution_count": null,
      "outputs": [],
      "id": "Y0r19Litu1yTVwvcGAGgt1IF"
    },
    {
      "cell_type": "code",
      "source": [
        "# get project ID\n",
        "PROJECT_ID = ! gcloud config get-value project\n",
        "PROJECT_ID = PROJECT_ID[0]\n",
        "LOCATION = \"us-central1\" # @param {type:\"string\"}\n",
        "\n",
        "# define project information manually if the above code didn't work\n",
        "if PROJECT_ID == \"(unset)\":\n",
        "  PROJECT_ID = \"[your-project-id]\" # @param {type:\"string\"}\n",
        "\n",
        "print(PROJECT_ID)"
      ],
      "metadata": {
        "id": "it17qlHBurGV"
      },
      "execution_count": null,
      "outputs": [],
      "id": "it17qlHBurGV"
    },
    {
      "cell_type": "markdown",
      "source": [
        "## Initial Vertex AI"
      ],
      "metadata": {
        "id": "MfUnQ4QIc2aT"
      },
      "id": "MfUnQ4QIc2aT"
    },
    {
      "cell_type": "code",
      "source": [
        "# init the aiplatform package\n",
        "from google.cloud import aiplatform\n",
        "aiplatform.init(project=PROJECT_ID, location=LOCATION)"
      ],
      "metadata": {
        "id": "47xjFhdUhYYY"
      },
      "execution_count": null,
      "outputs": [],
      "id": "47xjFhdUhYYY"
    },
    {
      "cell_type": "markdown",
      "source": [
        "## Helper Functions to answer questions using Gemini and PaLM LLMS\n"
      ],
      "metadata": {
        "id": "qwHRSbATp7RF"
      },
      "id": "qwHRSbATp7RF"
    },
    {
      "cell_type": "code",
      "source": [
        "from google.cloud.aiplatform_v1beta1.types.content import SafetySetting, HarmCategory\n",
        "import vertexai\n",
        "from vertexai.preview.generative_models import GenerativeModel, Part\n",
        "from vertexai.language_models import TextGenerationModel\n",
        "\n",
        "def answer_question_gemini(prompt):\n",
        "  model = GenerativeModel(\"gemini-pro\")\n",
        "  response = model.generate_content(\n",
        "    prompt,\n",
        "    generation_config={\n",
        "        \"max_output_tokens\": 8192,\n",
        "        \"temperature\": 0.5,\n",
        "        \"top_p\": 0.5,\n",
        "        \"top_k\": 10,\n",
        "    },\n",
        "  stream=False,\n",
        "  )\n",
        "  try:\n",
        "    return response.text\n",
        "  except:\n",
        "    print(\"An Error Ocuured Creaning the Data\")\n",
        "    return \"An Error Ocuured Creaning the Data\"\n",
        "\n",
        "\n",
        "def answer_question_palm(prompt):\n",
        "  parameters = {\n",
        "        \"candidate_count\": 1,\n",
        "        \"max_output_tokens\": 1024,\n",
        "        \"temperature\": 0.9,\n",
        "        \"top_p\": 1\n",
        "    }\n",
        "\n",
        "  model = TextGenerationModel.from_pretrained(\"text-bison\")\n",
        "  response = model.predict(\n",
        "        prompt,\n",
        "        **parameters\n",
        "  )\n",
        "  try:\n",
        "    return response.text\n",
        "  except:\n",
        "    print(\"An Error Ocuured Creaning the Data\")\n",
        "    return \"An Error Ocuured Creaning the Data\""
      ],
      "metadata": {
        "id": "ut1JODUio5lb"
      },
      "execution_count": null,
      "outputs": [],
      "id": "ut1JODUio5lb"
    },
    {
      "cell_type": "markdown",
      "source": [
        "## Function to Search BigQuery and Return Content"
      ],
      "metadata": {
        "id": "KBDO6hEyHqzl"
      },
      "id": "KBDO6hEyHqzl"
    },
    {
      "cell_type": "code",
      "source": [
        "def run_search(question):\n",
        "  from google.cloud import bigquery\n",
        "\n",
        "  client = bigquery.Client()\n",
        "\n",
        "  sql = \"\"\"\n",
        "      SELECT query.query, base.title, base.body\n",
        "      FROM VECTOR_SEARCH(\n",
        "      TABLE `bbc_news.bbc_news_with_embeddings`, 'text_embedding',\n",
        "      (\n",
        "      SELECT text_embedding, content AS query\n",
        "      FROM ML.GENERATE_TEXT_EMBEDDING(MODEL `bbc_news.embedding_model`,\n",
        "          (SELECT @question AS content))),\n",
        "      top_k => 5)\n",
        "      \"\"\"\n",
        "\n",
        "  job_config = bigquery.QueryJobConfig(\n",
        "    query_parameters=[\n",
        "        bigquery.ScalarQueryParameter(\"question\", \"STRING\", question),\n",
        "    ]\n",
        "  )\n",
        "\n",
        "\n",
        "  query_job = client.query(sql, job_config=job_config)\n",
        "\n",
        "  data = \"\"\n",
        "  for row in query_job:\n",
        "    data += row.body + \"\\n\"\n",
        "    #print(\"Title: {0} - Body: {1}\".format(row.title, row. body[:50]))\n",
        "  return data"
      ],
      "metadata": {
        "id": "OHX6u0RVR0hP"
      },
      "id": "OHX6u0RVR0hP",
      "execution_count": null,
      "outputs": []
    },
    {
      "cell_type": "code",
      "source": [
        "def build_prompt(data, question):\n",
        "    prompt = \"\"\"\n",
        "    context: Answer the question using the following Information.\n",
        "\n",
        "    Information: {0}\n",
        "\n",
        "    question: {1}\n",
        "\n",
        "    \"\"\".format(data, question)\n",
        "    return prompt"
      ],
      "metadata": {
        "id": "-Ckx2ZEIPALm"
      },
      "id": "-Ckx2ZEIPALm",
      "execution_count": null,
      "outputs": []
    },
    {
      "cell_type": "code",
      "source": [
        "def answer_question(question):\n",
        "\n",
        "  data = run_search(question)\n",
        "  prompt = build_prompt(data, question)\n",
        "\n",
        "  answer_gemini = answer_question_gemini(prompt)\n",
        "  answer_palm = answer_question_palm(prompt)\n",
        "\n",
        "  return answer_gemini, answer_palm"
      ],
      "metadata": {
        "id": "boaBI8avB5W3"
      },
      "execution_count": null,
      "outputs": [],
      "id": "boaBI8avB5W3"
    },
    {
      "cell_type": "code",
      "source": [
        "from IPython.core.display import display, HTML\n",
        "\n",
        "\n",
        "QUESTION = \"Tell me about the US Economy\"\n",
        "#QUESTION = \"What is Microsoft working on\"\n",
        "#QUESTION = \"What is Google in the news for?\"\n",
        "#QUESTION = \"Has there been any political unrest on Africa?\"\n",
        "\n",
        "answer_gemini, answer_palm = answer_question(QUESTION)\n",
        "\n",
        "print(QUESTION)\n",
        "print(\"--------------------------------\")\n",
        "display(\"Gemini answer: {0}\".format(answer_gemini))\n",
        "print(\"--------------------------------\")\n",
        "display(\"PaLM answer: {0}\".format(answer_palm))\n",
        "\n"
      ],
      "metadata": {
        "id": "qsio4CA35SN9"
      },
      "execution_count": null,
      "outputs": [],
      "id": "qsio4CA35SN9"
    }
  ],
  "metadata": {
    "kernelspec": {
      "display_name": "Python 3",
      "language": "python",
      "name": "python3"
    },
    "language_info": {
      "codemirror_mode": {
        "name": "ipython",
        "version": 3
      },
      "file_extension": ".py",
      "mimetype": "text/x-python",
      "name": "python",
      "nbconvert_exporter": "python",
      "pygments_lexer": "ipython3",
      "version": "3.10.10"
    },
    "colab": {
      "provenance": [],
      "name": "Embeddings Q&A with BigQuery"
    }
  },
  "nbformat": 4,
  "nbformat_minor": 5
}