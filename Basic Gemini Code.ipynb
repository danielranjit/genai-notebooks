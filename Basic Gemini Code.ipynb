{
  "cells": [
    {
      "cell_type": "code",
      "id": "o1lgUAizmO9zaLSby14Ve5md",
      "metadata": {
        "tags": [],
        "id": "o1lgUAizmO9zaLSby14Ve5md"
      },
      "source": [
        "! pip3 install --upgrade --user google-cloud-aiplatform==1.55.0"
      ],
      "execution_count": null,
      "outputs": []
    },
    {
      "cell_type": "code",
      "source": [
        "import IPython\n",
        "from IPython.display import display\n",
        "\n",
        "app = IPython.Application.instance()\n",
        "app.kernel.do_shutdown(True)"
      ],
      "metadata": {
        "id": "K6S3e5c7JfUU"
      },
      "id": "K6S3e5c7JfUU",
      "execution_count": null,
      "outputs": []
    },
    {
      "cell_type": "code",
      "source": [
        "import vertexai\n",
        "\n",
        "PROJECT_ID = ! gcloud config get-value project\n",
        "PROJECT_ID = PROJECT_ID[0]\n",
        "LOCATION = \"us-central1\" # @param {type:\"string\"}\n",
        "\n",
        "# define project information manually if the above code didn't work\n",
        "if PROJECT_ID == \"(unset)\":\n",
        "  PROJECT_ID = \"[your-project-id]\" # @param {type:\"string\"}\n",
        "\n",
        "print(PROJECT_ID)\n",
        "\n",
        "vertexai.init(project=PROJECT_ID, location=LOCATION)\n",
        "\n"
      ],
      "metadata": {
        "id": "2rLudoeCJgXi"
      },
      "id": "2rLudoeCJgXi",
      "execution_count": null,
      "outputs": []
    },
    {
      "cell_type": "code",
      "source": [
        "import base64\n",
        "import vertexai\n",
        "from vertexai.generative_models import (GenerativeModel, GenerationConfig,\n",
        "                                        Image, Part, FinishReason)\n",
        "\n",
        "def generate(prompt):\n",
        "  model = GenerativeModel(\"gemini-1.0-pro-002\")\n",
        "  response = model.generate_content(\n",
        "      [prompt],\n",
        "      stream=False,\n",
        "  )\n",
        "\n",
        "  return response.text"
      ],
      "metadata": {
        "id": "1z5jMnK7JnMT"
      },
      "id": "1z5jMnK7JnMT",
      "execution_count": null,
      "outputs": []
    },
    {
      "cell_type": "code",
      "source": [
        "prompt = \"\"\"\n",
        "Context: You tell Jokes in the Style of Rodney Dangerfield.\n",
        "Prompt: Tell me a joke about golfing\n",
        "\"\"\"\n",
        "\n",
        "response = generate(prompt)\n",
        "\n",
        "print(response)"
      ],
      "metadata": {
        "id": "S4IQVJmiLQm9"
      },
      "id": "S4IQVJmiLQm9",
      "execution_count": null,
      "outputs": []
    },
    {
      "cell_type": "markdown",
      "source": [
        "## Setting the Temperature, Top-K, and Top=P"
      ],
      "metadata": {
        "id": "HX68rE9KMcZT"
      },
      "id": "HX68rE9KMcZT"
    },
    {
      "cell_type": "code",
      "source": [
        "def generate(prompt, temperature=0.5, top_k=40, top_p=1):\n",
        "  model = GenerativeModel(\"gemini-1.0-pro-002\")\n",
        "\n",
        "  generationConfig = GenerationConfig(\n",
        "      temperature=temperature,\n",
        "      top_k=top_k,\n",
        "      top_p=top_p,\n",
        "  )\n",
        "\n",
        "  response = model.generate_content(\n",
        "      [prompt],\n",
        "      generation_config=generationConfig,\n",
        "      stream=False,\n",
        "  )\n",
        "\n",
        "  return response.text"
      ],
      "metadata": {
        "id": "xX8_b-9GMbgI"
      },
      "id": "xX8_b-9GMbgI",
      "execution_count": null,
      "outputs": []
    },
    {
      "cell_type": "code",
      "source": [
        "prompt = \"\"\"\n",
        "Context: You tell Jokes in the Style of Rodney Dangerfield.\n",
        "Prompt: Tell me a joke about golfing\n",
        "\"\"\"\n",
        "\n",
        "response = generate(prompt, temperature=.8, top_p=1, top_k=40)\n",
        "\n",
        "print(response)"
      ],
      "metadata": {
        "id": "t5WsKX5aMtkU"
      },
      "id": "t5WsKX5aMtkU",
      "execution_count": null,
      "outputs": []
    },
    {
      "cell_type": "markdown",
      "source": [
        "## Basic Chat Code"
      ],
      "metadata": {
        "id": "KzRgmq2YH0j0"
      },
      "id": "KzRgmq2YH0j0"
    },
    {
      "cell_type": "code",
      "source": [
        "model = GenerativeModel(\"gemini-1.0-pro-002\",\n",
        "    system_instruction=[\"\"\"Your name is Andrew.\n",
        "    You tell jokes in the style of Jerry Seinfeld.\"\"\"])\n",
        "\n",
        "chat = model.start_chat()"
      ],
      "metadata": {
        "id": "a1VfG3wtIyhf"
      },
      "id": "a1VfG3wtIyhf",
      "execution_count": null,
      "outputs": []
    },
    {
      "cell_type": "code",
      "source": [
        "def multiturn_generate_content(prompt, max_output_tokens= 2048,\n",
        "                               temperature=1.0, top_p=1):\n",
        "  generation_config = {\n",
        "    \"max_output_tokens\": max_output_tokens,\n",
        "    \"temperature\": temperature,\n",
        "    \"top_p\": top_p,\n",
        "  }\n",
        "\n",
        "  response = chat.send_message(\n",
        "      [prompt],\n",
        "      generation_config=generation_config,\n",
        "      stream=False\n",
        "  )\n",
        "  return response.text"
      ],
      "metadata": {
        "id": "937m2X5xH3VX"
      },
      "id": "937m2X5xH3VX",
      "execution_count": null,
      "outputs": []
    },
    {
      "cell_type": "code",
      "source": [
        "multiturn_generate_content(\"Hi, who are you?\")"
      ],
      "metadata": {
        "id": "TJtfSVTxIT71"
      },
      "id": "TJtfSVTxIT71",
      "execution_count": null,
      "outputs": []
    },
    {
      "cell_type": "code",
      "source": [
        "multiturn_generate_content(\"Tell me a joke about the airport\")"
      ],
      "metadata": {
        "id": "VQ0HKu0QJvr6"
      },
      "id": "VQ0HKu0QJvr6",
      "execution_count": null,
      "outputs": []
    },
    {
      "cell_type": "code",
      "source": [
        "import json\n",
        "\n",
        "history_data = [obj.__dict__ for obj in chat.history]\n",
        "\n",
        "print(history_data)\n",
        "print(chat.history)\n"
      ],
      "metadata": {
        "id": "IwTi5XYB4D-W"
      },
      "id": "IwTi5XYB4D-W",
      "execution_count": null,
      "outputs": []
    },
    {
      "cell_type": "code",
      "source": [
        "import vertexai.preview.generative_models as generative_models\n",
        "\n",
        "def safe_multiturn_generate_content(prompt, max_output_tokens= 2048,\n",
        "                               temperature=1.0, top_p=1):\n",
        "  generation_config = {\n",
        "    \"max_output_tokens\": max_output_tokens,\n",
        "    \"temperature\": temperature,\n",
        "    \"top_p\": top_p,\n",
        "  }\n",
        "\n",
        "  safety_settings = {\n",
        "    generative_models.HarmCategory.HARM_CATEGORY_HATE_SPEECH: generative_models.HarmBlockThreshold.BLOCK_ONLY_HIGH,\n",
        "    generative_models.HarmCategory.HARM_CATEGORY_DANGEROUS_CONTENT: generative_models.HarmBlockThreshold.BLOCK_ONLY_HIGH,\n",
        "    generative_models.HarmCategory.HARM_CATEGORY_SEXUALLY_EXPLICIT: generative_models.HarmBlockThreshold.BLOCK_ONLY_HIGH,\n",
        "    generative_models.HarmCategory.HARM_CATEGORY_HARASSMENT: generative_models.HarmBlockThreshold.BLOCK_ONLY_HIGH,\n",
        "}\n",
        "\n",
        "  response = chat.send_message(\n",
        "      [prompt],\n",
        "      generation_config=generation_config,\n",
        "      safety_settings=safety_settings,\n",
        "      stream=False\n",
        "  )\n",
        "  return response.text"
      ],
      "metadata": {
        "id": "_o0tiCLEMAPK"
      },
      "id": "_o0tiCLEMAPK",
      "execution_count": null,
      "outputs": []
    }
  ],
  "metadata": {
    "kernelspec": {
      "display_name": "Python 3",
      "language": "python",
      "name": "python3"
    },
    "language_info": {
      "codemirror_mode": {
        "name": "ipython",
        "version": 3
      },
      "file_extension": ".py",
      "mimetype": "text/x-python",
      "name": "python",
      "nbconvert_exporter": "python",
      "pygments_lexer": "ipython3",
      "version": "3.10.10"
    },
    "colab": {
      "provenance": [],
      "name": "Basic Gemini Code"
    }
  },
  "nbformat": 4,
  "nbformat_minor": 5
}