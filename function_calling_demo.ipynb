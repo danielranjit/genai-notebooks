{
  "cells": [
    {
      "cell_type": "code",
      "id": "Tv4MtvgHx7Pkgxq7VMMmkDii",
      "metadata": {
        "tags": [],
        "id": "Tv4MtvgHx7Pkgxq7VMMmkDii",
        "colab": {
          "base_uri": "https://localhost:8080/",
          "height": 851
        },
        "executionInfo": {
          "status": "ok",
          "timestamp": 1717420724624,
          "user_tz": 240,
          "elapsed": 21910,
          "user": {
            "displayName": "",
            "userId": ""
          }
        },
        "outputId": "12f715ee-7365-4afc-c48e-09e91410c197"
      },
      "source": [
        "!pip3 install --upgrade --user google-cloud-aiplatform"
      ],
      "execution_count": 1,
      "outputs": [
        {
          "output_type": "stream",
          "name": "stdout",
          "text": [
            "Requirement already satisfied: google-cloud-aiplatform in /usr/local/lib/python3.10/dist-packages (1.52.0)\n",
            "Collecting google-cloud-aiplatform\n",
            "  Downloading google_cloud_aiplatform-1.53.0-py2.py3-none-any.whl (5.1 MB)\n",
            "\u001b[2K     \u001b[90m━━━━━━━━━━━━━━━━━━━━━━━━━━━━━━━━━━━━━━━━\u001b[0m \u001b[32m5.1/5.1 MB\u001b[0m \u001b[31m15.4 MB/s\u001b[0m eta \u001b[36m0:00:00\u001b[0m\n",
            "\u001b[?25hRequirement already satisfied: google-api-core[grpc]!=2.0.*,!=2.1.*,!=2.2.*,!=2.3.*,!=2.4.*,!=2.5.*,!=2.6.*,!=2.7.*,<3.0.0dev,>=1.34.1 in /usr/local/lib/python3.10/dist-packages (from google-cloud-aiplatform) (2.11.1)\n",
            "Requirement already satisfied: google-auth<3.0.0dev,>=2.14.1 in /usr/local/lib/python3.10/dist-packages (from google-cloud-aiplatform) (2.27.0)\n",
            "Requirement already satisfied: proto-plus<2.0.0dev,>=1.22.0 in /usr/local/lib/python3.10/dist-packages (from google-cloud-aiplatform) (1.23.0)\n",
            "Requirement already satisfied: protobuf!=3.20.0,!=3.20.1,!=4.21.0,!=4.21.1,!=4.21.2,!=4.21.3,!=4.21.4,!=4.21.5,<5.0.0dev,>=3.19.5 in /usr/local/lib/python3.10/dist-packages (from google-cloud-aiplatform) (3.20.3)\n",
            "Requirement already satisfied: packaging>=14.3 in /usr/local/lib/python3.10/dist-packages (from google-cloud-aiplatform) (24.0)\n",
            "Requirement already satisfied: google-cloud-storage<3.0.0dev,>=1.32.0 in /usr/local/lib/python3.10/dist-packages (from google-cloud-aiplatform) (2.8.0)\n",
            "Requirement already satisfied: google-cloud-bigquery!=3.20.0,<4.0.0dev,>=1.15.0 in /usr/local/lib/python3.10/dist-packages (from google-cloud-aiplatform) (3.21.0)\n",
            "Requirement already satisfied: google-cloud-resource-manager<3.0.0dev,>=1.3.3 in /usr/local/lib/python3.10/dist-packages (from google-cloud-aiplatform) (1.12.3)\n",
            "Requirement already satisfied: shapely<3.0.0dev in /usr/local/lib/python3.10/dist-packages (from google-cloud-aiplatform) (2.0.4)\n",
            "Requirement already satisfied: pydantic<3 in /usr/local/lib/python3.10/dist-packages (from google-cloud-aiplatform) (1.10.15)\n",
            "Requirement already satisfied: docstring-parser<1 in /usr/local/lib/python3.10/dist-packages (from google-cloud-aiplatform) (0.16)\n",
            "Requirement already satisfied: googleapis-common-protos<2.0.dev0,>=1.56.2 in /usr/local/lib/python3.10/dist-packages (from google-api-core[grpc]!=2.0.*,!=2.1.*,!=2.2.*,!=2.3.*,!=2.4.*,!=2.5.*,!=2.6.*,!=2.7.*,<3.0.0dev,>=1.34.1->google-cloud-aiplatform) (1.63.0)\n",
            "Requirement already satisfied: requests<3.0.0.dev0,>=2.18.0 in /usr/local/lib/python3.10/dist-packages (from google-api-core[grpc]!=2.0.*,!=2.1.*,!=2.2.*,!=2.3.*,!=2.4.*,!=2.5.*,!=2.6.*,!=2.7.*,<3.0.0dev,>=1.34.1->google-cloud-aiplatform) (2.31.0)\n",
            "Requirement already satisfied: grpcio<2.0dev,>=1.33.2 in /usr/local/lib/python3.10/dist-packages (from google-api-core[grpc]!=2.0.*,!=2.1.*,!=2.2.*,!=2.3.*,!=2.4.*,!=2.5.*,!=2.6.*,!=2.7.*,<3.0.0dev,>=1.34.1->google-cloud-aiplatform) (1.64.0)\n",
            "Requirement already satisfied: grpcio-status<2.0.dev0,>=1.33.2 in /usr/local/lib/python3.10/dist-packages (from google-api-core[grpc]!=2.0.*,!=2.1.*,!=2.2.*,!=2.3.*,!=2.4.*,!=2.5.*,!=2.6.*,!=2.7.*,<3.0.0dev,>=1.34.1->google-cloud-aiplatform) (1.48.2)\n",
            "Requirement already satisfied: cachetools<6.0,>=2.0.0 in /usr/local/lib/python3.10/dist-packages (from google-auth<3.0.0dev,>=2.14.1->google-cloud-aiplatform) (5.3.3)\n",
            "Requirement already satisfied: pyasn1-modules>=0.2.1 in /usr/local/lib/python3.10/dist-packages (from google-auth<3.0.0dev,>=2.14.1->google-cloud-aiplatform) (0.4.0)\n",
            "Requirement already satisfied: rsa<5,>=3.1.4 in /usr/local/lib/python3.10/dist-packages (from google-auth<3.0.0dev,>=2.14.1->google-cloud-aiplatform) (4.9)\n",
            "Requirement already satisfied: google-cloud-core<3.0.0dev,>=1.6.0 in /usr/local/lib/python3.10/dist-packages (from google-cloud-bigquery!=3.20.0,<4.0.0dev,>=1.15.0->google-cloud-aiplatform) (2.3.3)\n",
            "Requirement already satisfied: google-resumable-media<3.0dev,>=0.6.0 in /usr/local/lib/python3.10/dist-packages (from google-cloud-bigquery!=3.20.0,<4.0.0dev,>=1.15.0->google-cloud-aiplatform) (2.7.0)\n",
            "Requirement already satisfied: python-dateutil<3.0dev,>=2.7.2 in /usr/local/lib/python3.10/dist-packages (from google-cloud-bigquery!=3.20.0,<4.0.0dev,>=1.15.0->google-cloud-aiplatform) (2.8.2)\n",
            "Requirement already satisfied: grpc-google-iam-v1<1.0.0dev,>=0.12.4 in /usr/local/lib/python3.10/dist-packages (from google-cloud-resource-manager<3.0.0dev,>=1.3.3->google-cloud-aiplatform) (0.13.0)\n",
            "Requirement already satisfied: typing-extensions>=4.2.0 in /usr/local/lib/python3.10/dist-packages (from pydantic<3->google-cloud-aiplatform) (4.11.0)\n",
            "Requirement already satisfied: numpy<3,>=1.14 in /usr/local/lib/python3.10/dist-packages (from shapely<3.0.0dev->google-cloud-aiplatform) (1.25.2)\n",
            "Requirement already satisfied: google-crc32c<2.0dev,>=1.0 in /usr/local/lib/python3.10/dist-packages (from google-resumable-media<3.0dev,>=0.6.0->google-cloud-bigquery!=3.20.0,<4.0.0dev,>=1.15.0->google-cloud-aiplatform) (1.5.0)\n",
            "Requirement already satisfied: pyasn1<0.7.0,>=0.4.6 in /usr/local/lib/python3.10/dist-packages (from pyasn1-modules>=0.2.1->google-auth<3.0.0dev,>=2.14.1->google-cloud-aiplatform) (0.6.0)\n",
            "Requirement already satisfied: six>=1.5 in /usr/local/lib/python3.10/dist-packages (from python-dateutil<3.0dev,>=2.7.2->google-cloud-bigquery!=3.20.0,<4.0.0dev,>=1.15.0->google-cloud-aiplatform) (1.16.0)\n",
            "Requirement already satisfied: charset-normalizer<4,>=2 in /usr/local/lib/python3.10/dist-packages (from requests<3.0.0.dev0,>=2.18.0->google-api-core[grpc]!=2.0.*,!=2.1.*,!=2.2.*,!=2.3.*,!=2.4.*,!=2.5.*,!=2.6.*,!=2.7.*,<3.0.0dev,>=1.34.1->google-cloud-aiplatform) (3.3.2)\n",
            "Requirement already satisfied: idna<4,>=2.5 in /usr/local/lib/python3.10/dist-packages (from requests<3.0.0.dev0,>=2.18.0->google-api-core[grpc]!=2.0.*,!=2.1.*,!=2.2.*,!=2.3.*,!=2.4.*,!=2.5.*,!=2.6.*,!=2.7.*,<3.0.0dev,>=1.34.1->google-cloud-aiplatform) (3.7)\n",
            "Requirement already satisfied: urllib3<3,>=1.21.1 in /usr/local/lib/python3.10/dist-packages (from requests<3.0.0.dev0,>=2.18.0->google-api-core[grpc]!=2.0.*,!=2.1.*,!=2.2.*,!=2.3.*,!=2.4.*,!=2.5.*,!=2.6.*,!=2.7.*,<3.0.0dev,>=1.34.1->google-cloud-aiplatform) (2.0.7)\n",
            "Requirement already satisfied: certifi>=2017.4.17 in /usr/local/lib/python3.10/dist-packages (from requests<3.0.0.dev0,>=2.18.0->google-api-core[grpc]!=2.0.*,!=2.1.*,!=2.2.*,!=2.3.*,!=2.4.*,!=2.5.*,!=2.6.*,!=2.7.*,<3.0.0dev,>=1.34.1->google-cloud-aiplatform) (2024.2.2)\n",
            "Installing collected packages: google-cloud-aiplatform\n",
            "\u001b[33m  WARNING: The script tb-gcp-uploader is installed in '/root/.local/bin' which is not on PATH.\n",
            "  Consider adding this directory to PATH or, if you prefer to suppress this warning, use --no-warn-script-location.\u001b[0m\u001b[33m\n",
            "\u001b[0mSuccessfully installed google-cloud-aiplatform-1.53.0\n"
          ]
        },
        {
          "output_type": "display_data",
          "data": {
            "application/vnd.colab-display-data+json": {
              "pip_warning": {
                "packages": [
                  "google"
                ]
              },
              "id": "ed4b231af9e840eba687ace0442c3b97"
            }
          },
          "metadata": {}
        }
      ]
    },
    {
      "cell_type": "code",
      "source": [
        "# Restart kernel after installs so that your environment can access the new packages\n",
        "import IPython\n",
        "\n",
        "app = IPython.Application.instance()\n",
        "app.kernel.do_shutdown(True)"
      ],
      "metadata": {
        "colab": {
          "base_uri": "https://localhost:8080/"
        },
        "id": "sO1EkkYlP9Bn",
        "executionInfo": {
          "status": "ok",
          "timestamp": 1717420807327,
          "user_tz": 240,
          "elapsed": 153,
          "user": {
            "displayName": "",
            "userId": ""
          }
        },
        "outputId": "b41bdf12-4c03-47bb-adbf-b160c8d29a96"
      },
      "id": "sO1EkkYlP9Bn",
      "execution_count": 2,
      "outputs": [
        {
          "output_type": "execute_result",
          "data": {
            "text/plain": [
              "{'status': 'ok', 'restart': True}"
            ]
          },
          "metadata": {},
          "execution_count": 2
        }
      ]
    },
    {
      "cell_type": "code",
      "source": [
        "PROJECT_ID = \"vertext-ai-dar\"  # @param {type:\"string\"}\n",
        "LOCATION = \"us-central1\"  # @param {type:\"string\"}\n",
        "\n",
        "import vertexai\n",
        "\n",
        "vertexai.init(project=PROJECT_ID, location=LOCATION)"
      ],
      "metadata": {
        "id": "dBAF_tCwQGrY",
        "executionInfo": {
          "status": "ok",
          "timestamp": 1717420820142,
          "user_tz": 240,
          "elapsed": 5,
          "user": {
            "displayName": "",
            "userId": ""
          }
        }
      },
      "id": "dBAF_tCwQGrY",
      "execution_count": 2,
      "outputs": []
    },
    {
      "cell_type": "code",
      "source": [
        "import requests\n",
        "from vertexai.generative_models import (\n",
        "    Content,\n",
        "    FunctionDeclaration,\n",
        "    GenerationConfig,\n",
        "    GenerativeModel,\n",
        "    Part,\n",
        "    Tool,\n",
        ")"
      ],
      "metadata": {
        "id": "MBEn14reQNJA",
        "executionInfo": {
          "status": "ok",
          "timestamp": 1717424069213,
          "user_tz": 240,
          "elapsed": 176,
          "user": {
            "displayName": "",
            "userId": ""
          }
        }
      },
      "id": "MBEn14reQNJA",
      "execution_count": 36,
      "outputs": []
    },
    {
      "cell_type": "code",
      "source": [
        "def multiply(a:float, b:float):\n",
        "    \"\"\"returns a * b.\"\"\"\n",
        "    print(\"Calling Multiply function\")\n",
        "    return a * b\n",
        "\n",
        "def add(a:float, b:float):\n",
        "    \"\"\"returns a + b.\"\"\"\n",
        "    print(\"Calling Add function\")\n",
        "    return a + b\n",
        "\n",
        "\n",
        "multiply_info = FunctionDeclaration(\n",
        "    name=\"multiply\",\n",
        "    description=\"Multiplies two numbers and returns the result\",\n",
        "    parameters={\n",
        "        \"type\": \"object\",\n",
        "        \"properties\": {\n",
        "            \"a\": {\"type\": \"number\", \"description\": \"First number\"},\n",
        "            \"b\": {\"type\": \"number\", \"description\": \"Second number\"}\n",
        "        },\n",
        "    },\n",
        ")\n",
        "\n",
        "add_info = FunctionDeclaration(\n",
        "    name=\"add\",\n",
        "    description=\"Adds two numbers and returns the result\",\n",
        "    parameters={\n",
        "        \"type\": \"object\",\n",
        "        \"properties\": {\n",
        "            \"a\": {\"type\": \"number\", \"description\": \"First number\"},\n",
        "            \"b\": {\"type\": \"number\", \"description\": \"Second number\"}\n",
        "        },\n",
        "    },\n",
        ")\n",
        "\n",
        "\n",
        "math_tool = Tool(\n",
        "    function_declarations=[\n",
        "        multiply_info,\n",
        "        add_info\n",
        "    ],\n",
        ")\n",
        "\n",
        "model = GenerativeModel(\n",
        "    \"gemini-1.5-pro-001\",\n",
        "    system_instruction=[\"\"\"Answer the user's question,\n",
        "    but do not do any math yourself.\"\"\"],\n",
        "    tools=[math_tool]\n",
        "  )"
      ],
      "metadata": {
        "id": "gqSSFGQ8Qbj5",
        "executionInfo": {
          "status": "ok",
          "timestamp": 1717426294558,
          "user_tz": 240,
          "elapsed": 146,
          "user": {
            "displayName": "",
            "userId": ""
          }
        }
      },
      "id": "gqSSFGQ8Qbj5",
      "execution_count": 110,
      "outputs": []
    },
    {
      "cell_type": "code",
      "source": [
        "def handle_response(response):\n",
        "\n",
        "  # If there is a function call then invoke it\n",
        "  # Otherwise print the response.\n",
        "  if response.candidates[0].function_calls:\n",
        "    function_call = response.candidates[0].function_calls[0]\n",
        "  else:\n",
        "    print(response.text)\n",
        "    return\n",
        "\n",
        "\n",
        "  if function_call.name == \"multiply\":\n",
        "      # Extract the arguments to use in your function\n",
        "      a = function_call.args[\"a\"]\n",
        "      b = function_call.args[\"b\"]\n",
        "\n",
        "      # Call your function\n",
        "      result = multiply(a, b)\n",
        "\n",
        "      # Send the result back to the model\n",
        "      response = chat.send_message(\"{0}\".format(result))\n",
        "\n",
        "      # Recursive call\n",
        "      handle_response(response)\n",
        "\n",
        "  elif function_call.name == \"add\":\n",
        "      # Extract the arguments to use in your function\n",
        "      a = function_call.args[\"a\"]\n",
        "      b = function_call.args[\"b\"]\n",
        "\n",
        "      # Call your function\n",
        "      result = add(a, b)\n",
        "\n",
        "      # Send the result back to the model\n",
        "      response = chat.send_message(\"{0}\".format(result))\n",
        "      # Recursive call\n",
        "      handle_response(response)\n",
        "  else:\n",
        "      # Shouldn't get here\n",
        "      print(function_call)\n"
      ],
      "metadata": {
        "id": "q5Uxdw_UdxdY",
        "executionInfo": {
          "status": "ok",
          "timestamp": 1717426302525,
          "user_tz": 240,
          "elapsed": 156,
          "user": {
            "displayName": "",
            "userId": ""
          }
        }
      },
      "id": "q5Uxdw_UdxdY",
      "execution_count": 111,
      "outputs": []
    },
    {
      "cell_type": "code",
      "source": [
        "chat = model.start_chat()"
      ],
      "metadata": {
        "id": "dJjjyWaZkjUr",
        "executionInfo": {
          "status": "ok",
          "timestamp": 1717426691294,
          "user_tz": 240,
          "elapsed": 151,
          "user": {
            "displayName": "",
            "userId": ""
          }
        }
      },
      "id": "dJjjyWaZkjUr",
      "execution_count": 126,
      "outputs": []
    },
    {
      "cell_type": "code",
      "source": [
        "response = chat.send_message(\"Tell me a joke?\")\n",
        "handle_response(response)"
      ],
      "metadata": {
        "colab": {
          "base_uri": "https://localhost:8080/"
        },
        "id": "jjiTjlC6c8wu",
        "executionInfo": {
          "status": "ok",
          "timestamp": 1717426694675,
          "user_tz": 240,
          "elapsed": 1084,
          "user": {
            "displayName": "",
            "userId": ""
          }
        },
        "outputId": "7966f4a7-8177-44f6-f694-b6c31763360f"
      },
      "id": "jjiTjlC6c8wu",
      "execution_count": 127,
      "outputs": [
        {
          "output_type": "stream",
          "name": "stdout",
          "text": [
            "Why did the four drop out of school? \n",
            "\n",
            "Because it was too tired of being divided by two! \n",
            "\n"
          ]
        }
      ]
    },
    {
      "cell_type": "code",
      "source": [
        "response = chat.send_message(\"I have 7 pizzas each with 16 slides. How many slices do I have?\")\n",
        "handle_response(response)"
      ],
      "metadata": {
        "colab": {
          "base_uri": "https://localhost:8080/"
        },
        "id": "QZlzDWbhYy8z",
        "executionInfo": {
          "status": "ok",
          "timestamp": 1717426700541,
          "user_tz": 240,
          "elapsed": 1960,
          "user": {
            "displayName": "",
            "userId": ""
          }
        },
        "outputId": "52159cee-1bf0-4696-b6ac-f8b737da4feb"
      },
      "id": "QZlzDWbhYy8z",
      "execution_count": 128,
      "outputs": [
        {
          "output_type": "stream",
          "name": "stdout",
          "text": [
            "Calling Multiply function\n",
            "You have 112 slices of pizza. \n",
            "\n"
          ]
        }
      ]
    },
    {
      "cell_type": "code",
      "source": [
        "response = chat.send_message(\"\"\"\n",
        "Doug brought 3 pizzas.\n",
        "Andrew brought 4 pizzas.\n",
        "How many pizzas did they bring together?\n",
        "\"\"\")\n",
        "\n",
        "handle_response(response)"
      ],
      "metadata": {
        "colab": {
          "base_uri": "https://localhost:8080/"
        },
        "id": "KPSLreKPj9Wr",
        "executionInfo": {
          "status": "ok",
          "timestamp": 1717426712326,
          "user_tz": 240,
          "elapsed": 1680,
          "user": {
            "displayName": "",
            "userId": ""
          }
        },
        "outputId": "093c0ec9-c8c9-48d1-fa01-3810141c5ad8"
      },
      "id": "KPSLreKPj9Wr",
      "execution_count": 129,
      "outputs": [
        {
          "output_type": "stream",
          "name": "stdout",
          "text": [
            "Calling Add function\n",
            "Together they brought 7 pizzas. \n",
            "\n"
          ]
        }
      ]
    },
    {
      "cell_type": "code",
      "source": [
        "response = chat.send_message(\"\"\"\n",
        "Doug brought 3 pizzas.\n",
        "Andrew brought 4 pizzas.\n",
        "There are 16 slices per pizza.\n",
        "How many slices are there?\n",
        "\"\"\")\n",
        "\n",
        "handle_response(response)"
      ],
      "metadata": {
        "colab": {
          "base_uri": "https://localhost:8080/"
        },
        "id": "dWXWuEbnmoaO",
        "executionInfo": {
          "status": "ok",
          "timestamp": 1717426723712,
          "user_tz": 240,
          "elapsed": 2758,
          "user": {
            "displayName": "",
            "userId": ""
          }
        },
        "outputId": "fded97e0-3ff6-4c61-a588-761da1fb7822"
      },
      "id": "dWXWuEbnmoaO",
      "execution_count": 130,
      "outputs": [
        {
          "output_type": "stream",
          "name": "stdout",
          "text": [
            "Calling Add function\n",
            "Calling Multiply function\n",
            "There are 112 slices in total. \n",
            "\n"
          ]
        }
      ]
    }
  ],
  "metadata": {
    "kernelspec": {
      "display_name": "Python 3",
      "language": "python",
      "name": "python3"
    },
    "language_info": {
      "codemirror_mode": {
        "name": "ipython",
        "version": 3
      },
      "file_extension": ".py",
      "mimetype": "text/x-python",
      "name": "python",
      "nbconvert_exporter": "python",
      "pygments_lexer": "ipython3",
      "version": "3.10.10"
    },
    "colab": {
      "provenance": [],
      "name": "drehnstrom (Jun 3, 2024, 9:15:48 AM)"
    }
  },
  "nbformat": 4,
  "nbformat_minor": 5
}