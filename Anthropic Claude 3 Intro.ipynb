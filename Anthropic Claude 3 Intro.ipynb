{
  "cells": [
    {
      "cell_type": "markdown",
      "metadata": {
        "id": "IPprg6Oz0QDs"
      },
      "source": [
        "# Getting Started with Claude 3 Models\n"
      ]
    },
    {
      "cell_type": "markdown",
      "metadata": {
        "id": "8fK_rdvvx1iZ"
      },
      "source": [
        "## Overview\n",
        "\n",
        "### Claude on Vertex AI\n",
        "\n",
        "Anthropic Claude 3 models on Vertex AI offer fully managed and serverless models are offered as managed APIs. To use a Claude model on Vertex AI, send a request directly to the Vertex AI API endpoint.\n",
        "\n",
        "You can stream your Claude responses to reduce the end-user latency perception. A streamed response uses server-sent events (SSE) to incrementally stream the response.\n",
        "\n",
        "### Available Anthropic Claude models\n",
        "\n",
        "#### Claude 3 Sonnet\n",
        "Anthropic Claude 3 Sonnet provides a balance between intelligence and speed for enterprise workloads. It's a high-endurance model for scaled AI that's available at a competitive price.\n",
        "\n",
        "#### Claude 3 Haiku\n",
        "Anthropic Claude 3 Haiku is the fastest, most compact model available from Anthropic. It is designed to answer simple queries and requests quickly. You can use it to build AI experiences that mimic human interactions.\n",
        "\n",
        "All Claude 3 models can process images and return text outputs, and feature a 200K context window.\n",
        "\n",
        "For more information, see the [Use Claude](https://cloud.devsite.corp.google.com/vertex-ai/generative-ai/docs/third-party-models/use-claude) documentation.\n"
      ]
    },
    {
      "cell_type": "markdown",
      "metadata": {
        "id": "2fxZn4SAbxdl"
      },
      "source": [
        "#### Select Claude 3 model"
      ]
    },
    {
      "cell_type": "code",
      "execution_count": null,
      "metadata": {
        "id": "hltNx33t6cSZ"
      },
      "outputs": [],
      "source": [
        "# Initialize Vertex AI\n",
        "import vertexai\n",
        "import json\n",
        "\n",
        "MODEL = \"claude-3-sonnet@20240229\"  # @param [\"claude-3-sonnet@20240229\", \"claude-3-haiku@20240307\"]\n",
        "\n",
        "PROJECT_ID = ! gcloud config get-value project\n",
        "PROJECT_ID = PROJECT_ID[0]\n",
        "LOCATION = \"us-central1\" # @param {type:\"string\"}\n",
        "\n",
        "# define project information manually if the above code didn't work\n",
        "if PROJECT_ID == \"(unset)\":\n",
        "  PROJECT_ID = \"[your-project-id]\" # @param {type:\"string\"}\n",
        "\n",
        "print(PROJECT_ID)\n",
        "\n",
        "vertexai.init(project=PROJECT_ID, location=LOCATION)\n"
      ]
    },
    {
      "cell_type": "markdown",
      "metadata": {
        "id": "5ahw-uFjCAbo"
      },
      "source": [
        "#### Text generation"
      ]
    },
    {
      "cell_type": "code",
      "execution_count": null,
      "metadata": {
        "id": "4zFz260B50oi"
      },
      "outputs": [],
      "source": [
        "PAYLOAD = {\n",
        "    \"anthropic_version\": \"vertex-2023-10-16\",\n",
        "    \"messages\": [{\"role\": \"user\", \"content\": \"Send me a recipe for banana bread.\"}],\n",
        "    \"max_tokens\": 100,\n",
        "    \"stream\": False,\n",
        "}\n",
        "\n",
        "request = json.dumps(PAYLOAD)\n",
        "!curl -X POST -H \"Authorization: Bearer $(gcloud auth print-access-token)\" -H \"Content-Type: application/json\" {ENDPOINT}/v1/projects/{PROJECT_ID}/locations/{REGION}/publishers/anthropic/models/{MODEL}:rawPredict -d '{request}'"
      ]
    },
    {
      "cell_type": "markdown",
      "metadata": {
        "id": "lfTx9TIKCBHo"
      },
      "source": [
        "#### Vision"
      ]
    },
    {
      "cell_type": "code",
      "execution_count": null,
      "metadata": {
        "id": "JjrE75TF8Nsn"
      },
      "outputs": [],
      "source": [
        "PAYLOAD = {\n",
        "    \"anthropic_version\": \"vertex-2023-10-16\",\n",
        "    \"messages\": [\n",
        "        {\n",
        "            \"role\": \"user\",\n",
        "            \"content\": [\n",
        "                {\n",
        "                    \"type\": \"image\",\n",
        "                    \"source\": {\n",
        "                        \"type\": \"base64\",\n",
        "                        \"media_type\": \"image/jpeg\",\n",
        "                        \"data\": \"/9j/4AAQSkZJRgABAQEAZQBlAAD/2wBDAAMCAgICAgMCAgIDAwMDBAYEBAQEBAgGBgUGCQgKCgkICQkKDA8MCgsOCwkJDRENDg8QEBEQCgwSExIQEw8QEBD/2wBDAQMDAwQDBAgEBAgQCwkLEBAQEBAQEBAQEBAQEBAQEBAQEBAQEBAQEBAQEBAQEBAQEBAQEBAQEBAQEBAQEBAQEBD/wAARCAAhADIDAREAAhEBAxEB/8QAHAAAAgIDAQEAAAAAAAAAAAAABAUDBwACBggJ/8QAMRAAAQIFAgIJBAIDAAAAAAAAAQIDAAQFESEGEhMxBxQiMkFRYXGBCDM0chWxc5Gh/8QAGwEAAgMBAQEAAAAAAAAAAAAAAQIAAwQFBgf/xAAoEQACAQIFAwMFAAAAAAAAAAAAAQIDEQQSITFRBRNBBhQVFjJhcaH/2gAMAwEAAhEDEQA/AK46QZOnJQttIA2i4j5rh23ofZu+0rlaGrdUk1NBWAbCL3QzSHliklcSTsyublFqZRxF2Nh5xqo0nGSOLjsWpRdyrqlOT9OnVKmGFtLSrBIj0cIxlE8LOtOlUbQPPaxqMy2lDjpKUcswnt0aIdUnB6GM9IVSlUBKXlY9Ypl06Enex2KPqivTja4SOkiqkX4xzCfGwL/q2sXxqKt6jr7yn2KRPKbJthlUcqhhlTV2b62MWyEzOj9bV09VYoCwy7jetJS4g+YI/o3HpGmMYR1Zgq4ucvtDat0d1rQ9HYqWpZ95jqb7K+qhgrcmZdTmQ0QQFG/e57bi4FwTsoSjNOCW/nhnGxcpXVVy1XjlFxI6ANNa+0nTa9LNtqYqco1MtKFiClxN05+f94jN3Z0pNcFvap1op+GcdUfoll3QoySlXPgCYuWNn5KZYCm9jjal9EuoWVnguOW8M3EXLqD4KH05eGJFfSBrJKikKVYG3diz3y4K/jnyfRpvSFAbSGk0yXSD4bM2jk2sdrNc2XQKLS2Vzjkg20y2NyzsuQPYZJ8AALkmwiZQZkJqvpurahlnmOJJUqUWw5wZdxjfNbyggFxZuGBnIbSV2uN4MWRlkd7Fc1nVr6FLdB2mZmZ1HP6O11qgVH+Gprgo0hKqSWqSyp07XBsSkdYCVjKgVJBSARkG6vO7vFb/ANM2Hi03GT22/B6BoQmZmnMuTgSidauzNADsF1J2qUPIKtuA8AoCM1uDZfkZTEnxEi6m+eRaCgNsjNLYvya/5DC5g7rXYQkpcXsuUqwBe/jYXPteGEsRoZQ/Mdbm1vXSLtgm6Ri17ZF/U8swA/oBrWl6XWJZ1t5tpx5bS20ktrBuU2FlJOOZzBFEWmuhyj6P1NOaukKtPLnJySRTVpdG5KGUEFJHZuLWHMnAF72iPVWItJZjqJVXAccSHXgZjtK3NAjfa24kAZIAvASC3cmefaLfEbcmVFJ2kBmwP9+0NYW7By9n7JPrsESzCEeX7QAoNR+P8GCxWEMd8fpAIzJr7fwIgELpnn8QyGN5X8Ff+QQQEC++r3MQU//Z\",\n",
        "                    },\n",
        "                },\n",
        "                {\"type\": \"text\", \"text\": \"What is in this image?\"},\n",
        "            ],\n",
        "        }\n",
        "    ],\n",
        "    \"max_tokens\": 100,\n",
        "    \"stream\": False,\n",
        "}\n",
        "\n",
        "request = json.dumps(PAYLOAD)\n",
        "!curl -X POST -H \"Authorization: Bearer $(gcloud auth print-access-token)\" -H \"Content-Type: application/json\" {ENDPOINT}/v1/projects/{PROJECT_ID}/locations/{REGION}/publishers/anthropic/models/{MODEL}:rawPredict -d '{request}'"
      ]
    },
    {
      "cell_type": "markdown",
      "metadata": {
        "id": "pFhK_S9S7tuU"
      },
      "source": [
        "### Use the Claude 3.0 models with streaming call"
      ]
    },
    {
      "cell_type": "markdown",
      "metadata": {
        "id": "5yxHywNiCGtO"
      },
      "source": [
        "#### Text Generation"
      ]
    },
    {
      "cell_type": "code",
      "execution_count": null,
      "metadata": {
        "id": "okpk-tPG7vSp"
      },
      "outputs": [],
      "source": [
        "PAYLOAD = {\n",
        "    \"anthropic_version\": \"vertex-2023-10-16\",\n",
        "    \"messages\": [{\"role\": \"user\", \"content\": \"Send me a recipe for banana bread.\"}],\n",
        "    \"max_tokens\": 100,\n",
        "    \"stream\": True,\n",
        "}\n",
        "\n",
        "request = json.dumps(PAYLOAD)\n",
        "!curl -X POST -H \"Authorization: Bearer $(gcloud auth print-access-token)\" -H \"Content-Type: application/json\" {ENDPOINT}/v1/projects/{PROJECT_ID}/locations/{REGION}/publishers/anthropic/models/{MODEL}:streamRawPredict -d '{request}'"
      ]
    },
    {
      "cell_type": "markdown",
      "metadata": {
        "id": "isByIhd1CFcK"
      },
      "source": [
        "#### Vision"
      ]
    },
    {
      "cell_type": "code",
      "execution_count": null,
      "metadata": {
        "id": "qJYtnUpY-u2o"
      },
      "outputs": [],
      "source": [
        "PAYLOAD = {\n",
        "    \"anthropic_version\": \"vertex-2023-10-16\",\n",
        "    \"messages\": [\n",
        "        {\n",
        "            \"role\": \"user\",\n",
        "            \"content\": [\n",
        "                {\n",
        "                    \"type\": \"image\",\n",
        "                    \"source\": {\n",
        "                        \"type\": \"base64\",\n",
        "                        \"media_type\": \"image/jpeg\",\n",
        "                        \"data\": \"/9j/4AAQSkZJRgABAQEAZQBlAAD/2wBDAAMCAgICAgMCAgIDAwMDBAYEBAQEBAgGBgUGCQgKCgkICQkKDA8MCgsOCwkJDRENDg8QEBEQCgwSExIQEw8QEBD/2wBDAQMDAwQDBAgEBAgQCwkLEBAQEBAQEBAQEBAQEBAQEBAQEBAQEBAQEBAQEBAQEBAQEBAQEBAQEBAQEBAQEBAQEBD/wAARCAAhADIDAREAAhEBAxEB/8QAHAAAAgIDAQEAAAAAAAAAAAAABAUDBwACBggJ/8QAMRAAAQIFAgIJBAIDAAAAAAAAAQIDAAQFESEGEhMxBxQiMkFRYXGBCDM0chWxc5Gh/8QAGwEAAgMBAQEAAAAAAAAAAAAAAQIAAwQFBgf/xAAoEQACAQIFAwMFAAAAAAAAAAAAAQIDEQQSITFRBRNBBhQVFjJhcaH/2gAMAwEAAhEDEQA/AK46QZOnJQttIA2i4j5rh23ofZu+0rlaGrdUk1NBWAbCL3QzSHliklcSTsyublFqZRxF2Nh5xqo0nGSOLjsWpRdyrqlOT9OnVKmGFtLSrBIj0cIxlE8LOtOlUbQPPaxqMy2lDjpKUcswnt0aIdUnB6GM9IVSlUBKXlY9Ypl06Enex2KPqivTja4SOkiqkX4xzCfGwL/q2sXxqKt6jr7yn2KRPKbJthlUcqhhlTV2b62MWyEzOj9bV09VYoCwy7jetJS4g+YI/o3HpGmMYR1Zgq4ucvtDat0d1rQ9HYqWpZ95jqb7K+qhgrcmZdTmQ0QQFG/e57bi4FwTsoSjNOCW/nhnGxcpXVVy1XjlFxI6ANNa+0nTa9LNtqYqco1MtKFiClxN05+f94jN3Z0pNcFvap1op+GcdUfoll3QoySlXPgCYuWNn5KZYCm9jjal9EuoWVnguOW8M3EXLqD4KH05eGJFfSBrJKikKVYG3diz3y4K/jnyfRpvSFAbSGk0yXSD4bM2jk2sdrNc2XQKLS2Vzjkg20y2NyzsuQPYZJ8AALkmwiZQZkJqvpurahlnmOJJUqUWw5wZdxjfNbyggFxZuGBnIbSV2uN4MWRlkd7Fc1nVr6FLdB2mZmZ1HP6O11qgVH+Gprgo0hKqSWqSyp07XBsSkdYCVjKgVJBSARkG6vO7vFb/ANM2Hi03GT22/B6BoQmZmnMuTgSidauzNADsF1J2qUPIKtuA8AoCM1uDZfkZTEnxEi6m+eRaCgNsjNLYvya/5DC5g7rXYQkpcXsuUqwBe/jYXPteGEsRoZQ/Mdbm1vXSLtgm6Ri17ZF/U8swA/oBrWl6XWJZ1t5tpx5bS20ktrBuU2FlJOOZzBFEWmuhyj6P1NOaukKtPLnJySRTVpdG5KGUEFJHZuLWHMnAF72iPVWItJZjqJVXAccSHXgZjtK3NAjfa24kAZIAvASC3cmefaLfEbcmVFJ2kBmwP9+0NYW7By9n7JPrsESzCEeX7QAoNR+P8GCxWEMd8fpAIzJr7fwIgELpnn8QyGN5X8Ff+QQQEC++r3MQU//Z\",\n",
        "                    },\n",
        "                },\n",
        "                {\"type\": \"text\", \"text\": \"What is in this image?\"},\n",
        "            ],\n",
        "        }\n",
        "    ],\n",
        "    \"max_tokens\": 100,\n",
        "    \"stream\": True,\n",
        "}\n",
        "\n",
        "request = json.dumps(PAYLOAD)\n",
        "!curl -X POST -H \"Authorization: Bearer $(gcloud auth print-access-token)\" -H \"Content-Type: application/json\" {ENDPOINT}/v1/projects/{PROJECT_ID}/locations/{REGION}/publishers/anthropic/models/{MODEL}:streamRawPredict -d '{request}'"
      ]
    },
    {
      "cell_type": "markdown",
      "metadata": {
        "id": "gI3KlxQQ_F_T"
      },
      "source": [
        "## Using Anthropic's Vertex SDK for *Python*"
      ]
    },
    {
      "cell_type": "markdown",
      "metadata": {
        "id": "_CJrqUvqAfR7"
      },
      "source": [
        "#### Install Anthropic's Vertex SDK for Python"
      ]
    },
    {
      "cell_type": "code",
      "execution_count": null,
      "metadata": {
        "id": "fi_HLdat_Pce"
      },
      "outputs": [],
      "source": [
        "! pip3 install -U 'anthropic[vertex]'"
      ]
    },
    {
      "cell_type": "markdown",
      "metadata": {
        "id": "hUiAYUFbBCpR"
      },
      "source": [
        "#### Restart current runtime\n",
        "\n",
        "To use the newly installed packages in this Jupyter runtime, you must restart the runtime. You can do this by running the cell below, which will restart the current kernel."
      ]
    },
    {
      "cell_type": "code",
      "execution_count": null,
      "metadata": {
        "id": "jcqgcj_DBFgt"
      },
      "outputs": [],
      "source": [
        "# Restart kernel after installs so that your environment can access the new packages\n",
        "import sys\n",
        "\n",
        "if \"google.colab\" in sys.modules:\n",
        "    import IPython\n",
        "\n",
        "    app = IPython.Application.instance()\n",
        "    app.kernel.do_shutdown(True)"
      ]
    },
    {
      "cell_type": "markdown",
      "metadata": {
        "id": "czcmJpKPBMVC"
      },
      "source": [
        "#### Select Claude 3 model"
      ]
    },
    {
      "cell_type": "markdown",
      "metadata": {
        "id": "shZgRl6qbZYP"
      },
      "source": [
        "#### Define Google Cloud project and model information"
      ]
    },
    {
      "cell_type": "code",
      "source": [],
      "metadata": {
        "id": "sEzBlsyf88aF"
      },
      "execution_count": null,
      "outputs": []
    },
    {
      "cell_type": "code",
      "execution_count": null,
      "metadata": {
        "id": "JZLqMJ6va9fc"
      },
      "outputs": [],
      "source": [
        "PROJECT_ID = \"vertext-ai-dar\"  # @param {type:\"string\"}\n",
        "MODEL = \"claude-3-sonnet@20240229\"  # @param [\"claude-3-sonnet@20240229\", \"claude-3-haiku@20240307\"]\n",
        "REGION = \"us-central1\"\n",
        "\n",
        "ENDPOINT = f\"https://{REGION}-aiplatform.googleapis.com\""
      ]
    },
    {
      "cell_type": "markdown",
      "metadata": {
        "id": "gijJ2vr5B5nV"
      },
      "source": [
        "#### Text generation"
      ]
    },
    {
      "cell_type": "code",
      "execution_count": null,
      "metadata": {
        "id": "KedVqBW9_2m_"
      },
      "outputs": [],
      "source": [
        "from anthropic import AnthropicVertex\n",
        "\n",
        "client = AnthropicVertex(region=REGION, project_id=PROJECT_ID)\n",
        "message = client.messages.create(\n",
        "    max_tokens=1024,\n",
        "    messages=[\n",
        "        {\n",
        "            \"role\": \"user\",\n",
        "            \"content\": \"Send me a recipe for banana bread.\",\n",
        "        }\n",
        "    ],\n",
        "    model=MODEL,\n",
        ")\n",
        "print(message.model_dump_json(indent=2))"
      ]
    },
    {
      "cell_type": "markdown",
      "metadata": {
        "id": "CysN0InWCKN4"
      },
      "source": [
        "#### Vision"
      ]
    },
    {
      "cell_type": "code",
      "execution_count": null,
      "metadata": {
        "id": "8hTk6_Ju_3rj"
      },
      "outputs": [],
      "source": [
        "import base64\n",
        "\n",
        "import httpx\n",
        "from anthropic import AnthropicVertex\n",
        "\n",
        "client = AnthropicVertex(region=REGION, project_id=PROJECT_ID)\n",
        "\n",
        "image1_url = \"https://upload.wikimedia.org/wikipedia/commons/a/a7/Camponotus_flavomarginatus_ant.jpg\"\n",
        "image1_media_type = \"image/jpeg\"\n",
        "image1_data = base64.b64encode(httpx.get(image1_url).content).decode(\"utf-8\")\n",
        "\n",
        "message = client.messages.create(\n",
        "    max_tokens=1024,\n",
        "    messages=[\n",
        "        {\n",
        "            \"role\": \"user\",\n",
        "            \"content\": [\n",
        "                {\n",
        "                    \"type\": \"image\",\n",
        "                    \"source\": {\n",
        "                        \"type\": \"base64\",\n",
        "                        \"media_type\": image1_media_type,\n",
        "                        \"data\": image1_data,\n",
        "                    },\n",
        "                },\n",
        "                {\"type\": \"text\", \"text\": \"Describe this image.\"},\n",
        "            ],\n",
        "        }\n",
        "    ],\n",
        "    model=MODEL,\n",
        ")\n",
        "print(message.model_dump_json(indent=2))"
      ]
    },
    {
      "cell_type": "markdown",
      "metadata": {
        "id": "w6mLYBLo_sqx"
      },
      "source": [
        "### Use the Claude 3.0 models with streaming call"
      ]
    },
    {
      "cell_type": "markdown",
      "metadata": {
        "id": "njM6xrUzB9qq"
      },
      "source": [
        "#### Text generation"
      ]
    },
    {
      "cell_type": "code",
      "execution_count": null,
      "metadata": {
        "id": "dx3o-iBp_3dc"
      },
      "outputs": [],
      "source": [
        "from anthropic import AnthropicVertex\n",
        "\n",
        "client = AnthropicVertex(region=\"us-central1\", project_id=PROJECT_ID)\n",
        "\n",
        "with client.messages.stream(\n",
        "    max_tokens=1024,\n",
        "    messages=[\n",
        "        {\n",
        "            \"role\": \"user\",\n",
        "            \"content\": \"Send me a recipe for banana bread.\",\n",
        "        }\n",
        "    ],\n",
        "    model=MODEL,\n",
        ") as stream:\n",
        "    for text in stream.text_stream:\n",
        "        print(text, end=\"\", flush=True)"
      ]
    },
    {
      "cell_type": "markdown",
      "metadata": {
        "id": "hTU3n5iECMYR"
      },
      "source": [
        "#### Vision"
      ]
    },
    {
      "cell_type": "code",
      "execution_count": null,
      "metadata": {
        "id": "NzlYcssb_354"
      },
      "outputs": [],
      "source": [
        "import base64\n",
        "\n",
        "import httpx\n",
        "from anthropic import AnthropicVertex\n",
        "\n",
        "image1_url = \"https://upload.wikimedia.org/wikipedia/commons/a/a7/Camponotus_flavomarginatus_ant.jpg\"\n",
        "image1_media_type = \"image/jpeg\"\n",
        "image1_data = base64.b64encode(httpx.get(image1_url).content).decode(\"utf-8\")\n",
        "client = AnthropicVertex(region=REGION, project_id=PROJECT_ID)\n",
        "\n",
        "with client.messages.stream(\n",
        "    max_tokens=1024,\n",
        "    messages=[\n",
        "        {\n",
        "            \"role\": \"user\",\n",
        "            \"content\": [\n",
        "                {\n",
        "                    \"type\": \"image\",\n",
        "                    \"source\": {\n",
        "                        \"type\": \"base64\",\n",
        "                        \"media_type\": image1_media_type,\n",
        "                        \"data\": image1_data,\n",
        "                    },\n",
        "                },\n",
        "                {\"type\": \"text\", \"text\": \"Describe this image.\"},\n",
        "            ],\n",
        "        }\n",
        "    ],\n",
        "    model=MODEL,\n",
        ") as stream:\n",
        "    for text in stream.text_stream:\n",
        "        print(text, end=\"\", flush=True)"
      ]
    }
  ],
  "metadata": {
    "colab": {
      "name": "Anthropic Claude 3 Intro",
      "provenance": []
    },
    "kernelspec": {
      "display_name": "Python 3",
      "name": "python3"
    }
  },
  "nbformat": 4,
  "nbformat_minor": 0
}