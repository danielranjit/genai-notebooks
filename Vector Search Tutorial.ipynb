{
  "cells": [
    {
      "cell_type": "code",
      "source": [
        "!pip install --upgrade --user google-cloud-aiplatform>=1.29.0 google-cloud-storage"
      ],
      "metadata": {
        "id": "7nEiiaq9fIiI"
      },
      "id": "7nEiiaq9fIiI",
      "execution_count": null,
      "outputs": []
    },
    {
      "cell_type": "code",
      "source": [
        "# Restart kernel after installs so that your environment can access the new packages\n",
        "import IPython\n",
        "\n",
        "app = IPython.Application.instance()\n",
        "app.kernel.do_shutdown(True)"
      ],
      "metadata": {
        "id": "7zbBaT4nexBU"
      },
      "id": "7zbBaT4nexBU",
      "execution_count": null,
      "outputs": []
    },
    {
      "cell_type": "code",
      "source": [
        "# get project ID\n",
        "PROJECT_ID = ! gcloud config get-value project\n",
        "PROJECT_ID = PROJECT_ID[0]\n",
        "LOCATION = \"us-central1\"\n",
        "if PROJECT_ID == \"(unset)\":\n",
        "    print(f\"Please set the project ID manually below\")"
      ],
      "metadata": {
        "id": "hcWEL50IfhJa"
      },
      "id": "hcWEL50IfhJa",
      "execution_count": null,
      "outputs": []
    },
    {
      "cell_type": "code",
      "source": [
        "# define project information\n",
        "if PROJECT_ID == \"(unset)\":\n",
        "  PROJECT_ID = \"[your-project-id]\"\n",
        "\n",
        "# generate a unique id for this session\n",
        "from datetime import datetime\n",
        "UID = datetime.now().strftime(\"%m%d%H%M\")\n",
        "print(PROJECT_ID)"
      ],
      "metadata": {
        "id": "vCTJrIR1foSB"
      },
      "id": "vCTJrIR1foSB",
      "execution_count": null,
      "outputs": []
    },
    {
      "cell_type": "code",
      "source": [
        "! gcloud services enable compute.googleapis.com aiplatform.googleapis.com storage.googleapis.com --project {PROJECT_ID}"
      ],
      "metadata": {
        "id": "-fd3N6MSf7MB"
      },
      "id": "-fd3N6MSf7MB",
      "execution_count": null,
      "outputs": []
    },
    {
      "cell_type": "code",
      "source": [
        "BUCKET_URI = f\"gs://{PROJECT_ID}-vs-quickstart-{UID}\""
      ],
      "metadata": {
        "id": "Asx_WIphgM9_"
      },
      "id": "Asx_WIphgM9_",
      "execution_count": null,
      "outputs": []
    },
    {
      "cell_type": "code",
      "source": [
        "! gsutil mb -l $LOCATION -p $PROJECT_ID $BUCKET_URI\n",
        "! gsutil cp \"gs://github-repo/data/vs-quickstart/product-embs.json\" $BUCKET_URI"
      ],
      "metadata": {
        "id": "isuGE6KfgQBf"
      },
      "id": "isuGE6KfgQBf",
      "execution_count": null,
      "outputs": []
    },
    {
      "cell_type": "code",
      "source": [
        "! gsutil cp \"gs://github-repo/data/vs-quickstart/product-embs.json\" . # for query tests"
      ],
      "metadata": {
        "id": "AcRphTsWg-kE"
      },
      "id": "AcRphTsWg-kE",
      "execution_count": null,
      "outputs": []
    },
    {
      "cell_type": "code",
      "source": [
        "! head product-embs.json\n"
      ],
      "metadata": {
        "id": "qeIUJGC2hEfP"
      },
      "id": "qeIUJGC2hEfP",
      "execution_count": null,
      "outputs": []
    },
    {
      "cell_type": "code",
      "source": [
        "# init the aiplatform package\n",
        "from google.cloud import aiplatform\n",
        "aiplatform.init(project=PROJECT_ID, location=LOCATION)"
      ],
      "metadata": {
        "id": "47xjFhdUhYYY"
      },
      "id": "47xjFhdUhYYY",
      "execution_count": null,
      "outputs": []
    },
    {
      "cell_type": "code",
      "source": [
        "# create Index\n",
        "my_index = aiplatform.MatchingEngineIndex.create_tree_ah_index(\n",
        "    display_name = f\"vs-quickstart-index-{UID}\",\n",
        "    contents_delta_uri = BUCKET_URI,\n",
        "    dimensions = 768,\n",
        "    approximate_neighbors_count = 10,\n",
        ")"
      ],
      "metadata": {
        "id": "_YA1KMHBhdOU"
      },
      "id": "_YA1KMHBhdOU",
      "execution_count": null,
      "outputs": []
    },
    {
      "cell_type": "code",
      "source": [
        "## create `IndexEndpoint`\n",
        "my_index_endpoint = aiplatform.MatchingEngineIndexEndpoint.create(\n",
        "    display_name = f\"vs-quickstart-index-endpoint-{UID}\",\n",
        "    public_endpoint_enabled = True\n",
        ")"
      ],
      "metadata": {
        "id": "1IBXROLgkBlc"
      },
      "id": "1IBXROLgkBlc",
      "execution_count": null,
      "outputs": []
    },
    {
      "cell_type": "code",
      "source": [
        "DEPLOYED_INDEX_ID = f\"vs_quickstart_deployed_{UID}\"\n",
        "print(DEPLOYED_INDEX_ID)"
      ],
      "metadata": {
        "id": "7sRR3L5xkR5Q"
      },
      "id": "7sRR3L5xkR5Q",
      "execution_count": null,
      "outputs": []
    },
    {
      "cell_type": "code",
      "source": [
        "# deploy the Index to the Index Endpoint\n",
        "my_index_endpoint.deploy_index(\n",
        "    index = my_index, deployed_index_id = DEPLOYED_INDEX_ID\n",
        ")"
      ],
      "metadata": {
        "id": "qiOVALlfl67W"
      },
      "id": "qiOVALlfl67W",
      "execution_count": null,
      "outputs": []
    },
    {
      "cell_type": "code",
      "source": [
        "import json\n",
        "\n",
        "# build dicts for product names and embs\n",
        "product_names = {}\n",
        "product_embs = {}\n",
        "with open('product-embs.json') as f:\n",
        "    for l in f.readlines():\n",
        "        p = json.loads(l)\n",
        "        id = p['id']\n",
        "        product_names[id] = p['name']\n",
        "        product_embs[id] = p['embedding']"
      ],
      "metadata": {
        "id": "Xg5ju-dXmlEx"
      },
      "id": "Xg5ju-dXmlEx",
      "execution_count": null,
      "outputs": []
    },
    {
      "cell_type": "code",
      "source": [
        " # Get the embedding for ID 6523 \"cloudveil women's excursion short\" you can also try with other IDs such as 12711, 18090, 19536 and 11863\n",
        "query_emb = product_embs['6523']\n",
        "\n",
        "print(query_emb)"
      ],
      "metadata": {
        "id": "YwYnLxE0mrAt"
      },
      "id": "YwYnLxE0mrAt",
      "execution_count": null,
      "outputs": []
    },
    {
      "cell_type": "code",
      "source": [
        "# run query\n",
        "response = my_index_endpoint.find_neighbors(\n",
        "    deployed_index_id = DEPLOYED_INDEX_ID,\n",
        "    queries = [query_emb],\n",
        "    num_neighbors = 10\n",
        ")\n",
        "\n",
        "# show the results\n",
        "for idx, neighbor in enumerate(response[0]):\n",
        "    print(f\"{neighbor.distance:.2f} {neighbor.id} {product_names[neighbor.id]}\")"
      ],
      "metadata": {
        "id": "cwbDnrs6nB7s"
      },
      "id": "cwbDnrs6nB7s",
      "execution_count": null,
      "outputs": []
    },
    {
      "cell_type": "markdown",
      "source": [
        "# SEARCH the Index"
      ],
      "metadata": {
        "id": "uVOa4ml1xFft"
      },
      "id": "uVOa4ml1xFft"
    },
    {
      "cell_type": "code",
      "source": [
        "from vertexai.language_models import TextEmbeddingModel\n",
        "\n",
        "\n",
        "def text_embedding(text_to_embed) -> list:\n",
        "    \"\"\"Text embedding with a Large Language Model.\"\"\"\n",
        "    model = TextEmbeddingModel.from_pretrained(\"textembedding-gecko@001\")\n",
        "    embeddings = model.get_embeddings([text_to_embed])\n",
        "    for embedding in embeddings:\n",
        "        vector = embedding.values\n",
        "        print(f\"Length of Embedding Vector: {len(vector)}\")\n",
        "    return vector\n"
      ],
      "metadata": {
        "id": "YwW1YUqRv5nE"
      },
      "id": "YwW1YUqRv5nE",
      "execution_count": null,
      "outputs": []
    },
    {
      "cell_type": "markdown",
      "source": [
        "## Specify a search"
      ],
      "metadata": {
        "id": "7s1nx4shxXuF"
      },
      "id": "7s1nx4shxXuF"
    },
    {
      "cell_type": "code",
      "source": [
        "SEARCH_TERM = \"Winter Jacket with Hood for men\""
      ],
      "metadata": {
        "id": "AQoHkAr1wgpm"
      },
      "id": "AQoHkAr1wgpm",
      "execution_count": null,
      "outputs": []
    },
    {
      "cell_type": "code",
      "source": [
        "SEARCH_TERM_EMBEDDING = text_embedding(SEARCH_TERM)\n",
        "\n",
        "print(SEARCH_TERM_EMBEDDING)"
      ],
      "metadata": {
        "id": "qqbmoBcAwnuO"
      },
      "id": "qqbmoBcAwnuO",
      "execution_count": null,
      "outputs": []
    },
    {
      "cell_type": "markdown",
      "source": [
        "## Query the index using the embedding created from the search term"
      ],
      "metadata": {
        "id": "Of9h-G2jxjYH"
      },
      "id": "Of9h-G2jxjYH"
    },
    {
      "cell_type": "code",
      "source": [
        "response = my_index_endpoint.find_neighbors(\n",
        "    deployed_index_id = DEPLOYED_INDEX_ID,\n",
        "    queries = [SEARCH_TERM_EMBEDDING],\n",
        "    num_neighbors = 10\n",
        ")\n",
        "\n",
        "# show the results\n",
        "for idx, neighbor in enumerate(response[0]):\n",
        "    print(f\"{neighbor.distance:.2f} {neighbor.id} {product_names[neighbor.id]}\")"
      ],
      "metadata": {
        "id": "q1odLP7cxh4Z"
      },
      "id": "q1odLP7cxh4Z",
      "execution_count": null,
      "outputs": []
    }
  ],
  "metadata": {
    "kernelspec": {
      "display_name": "Python 3",
      "language": "python",
      "name": "python3"
    },
    "language_info": {
      "codemirror_mode": {
        "name": "ipython",
        "version": 3
      },
      "file_extension": ".py",
      "mimetype": "text/x-python",
      "name": "python",
      "nbconvert_exporter": "python",
      "pygments_lexer": "ipython3",
      "version": "3.10.10"
    },
    "colab": {
      "provenance": [],
      "name": "Vector Search Tutorial"
    }
  },
  "nbformat": 4,
  "nbformat_minor": 5
}