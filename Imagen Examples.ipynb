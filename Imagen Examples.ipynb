{
  "cells": [
    {
      "cell_type": "code",
      "execution_count": null,
      "metadata": {
        "id": "Uyp7dZgC2csY"
      },
      "outputs": [],
      "source": [
        "!pip install google-cloud-aiplatform==1.55.0 --upgrade"
      ],
      "id": "Uyp7dZgC2csY"
    },
    {
      "cell_type": "markdown",
      "source": [
        "## Restart the runtime"
      ],
      "metadata": {
        "id": "nX94OAnMT9AQ"
      },
      "id": "nX94OAnMT9AQ"
    },
    {
      "cell_type": "code",
      "source": [
        "import IPython\n",
        "from IPython.display import display\n",
        "\n",
        "app = IPython.Application.instance()\n",
        "app.kernel.do_shutdown(True)"
      ],
      "metadata": {
        "id": "vPIMNb1JT74y"
      },
      "id": "vPIMNb1JT74y",
      "execution_count": null,
      "outputs": []
    },
    {
      "cell_type": "code",
      "source": [
        "import vertexai\n",
        "from google.cloud import aiplatform\n",
        "\n",
        "PROJECT_ID = ! gcloud config get-value project\n",
        "PROJECT_ID = PROJECT_ID[0]\n",
        "LOCATION = \"us-central1\" # @param {type:\"string\"}\n",
        "\n",
        "# define project information manually if the above code didn't work\n",
        "if PROJECT_ID == \"(unset)\":\n",
        "  PROJECT_ID = \"[your-project-id]\" # @param {type:\"string\"}\n",
        "\n",
        "print(PROJECT_ID)\n",
        "\n",
        "vertexai.init(project=PROJECT_ID, location=LOCATION)"
      ],
      "metadata": {
        "id": "g5PeB3tJJ8JN"
      },
      "execution_count": null,
      "outputs": [],
      "id": "g5PeB3tJJ8JN"
    },
    {
      "cell_type": "code",
      "source": [
        "from vertexai.preview.vision_models import ImageGenerationModel\n",
        "\n",
        "PROMPT=\"\"\"A Golden Retriever puppy wearing a Santa Clause hat sitting\n",
        "in front fo a Christmas Tree. Focus on the dog.\"\"\"\n",
        "\n",
        "model = ImageGenerationModel.from_pretrained(\"imagegeneration\")\n",
        "response = model.generate_images(\n",
        "    prompt=PROMPT,\n",
        "    # Optional:\n",
        "    number_of_images=1,\n",
        "    # Change the seed and get a different picture\n",
        "    add_watermark=False,\n",
        "    seed=456,\n",
        ")\n",
        "response[0].show()\n",
        "response[0].save(FILE_NAME)\n"
      ],
      "metadata": {
        "id": "yVJmJpVeqTBg"
      },
      "execution_count": null,
      "outputs": [],
      "id": "yVJmJpVeqTBg"
    },
    {
      "cell_type": "code",
      "source": [
        "from vertexai.vision_models import ImageCaptioningModel, Image\n",
        "\n",
        "model = ImageCaptioningModel.from_pretrained(\"imagetext\")\n",
        "image = Image.load_from_file(FILE_NAME)\n",
        "captions = model.get_captions(\n",
        "    image=image,\n",
        "    number_of_results=3,\n",
        "    language=\"en\",\n",
        ")\n",
        "\n",
        "for cap in captions:\n",
        "  print(cap)"
      ],
      "metadata": {
        "id": "fhextIUkrf2n"
      },
      "execution_count": null,
      "outputs": [],
      "id": "fhextIUkrf2n"
    },
    {
      "cell_type": "code",
      "source": [
        "from vertexai.vision_models import ImageQnAModel, Image\n",
        "\n",
        "model = ImageQnAModel.from_pretrained(\"imagetext\")\n",
        "image = Image.load_from_file(FILE_NAME)\n",
        "answers = model.ask_question(\n",
        "    image=image,\n",
        "    question=\"What kind of animal is in the picture?\",\n",
        "    number_of_results=1,\n",
        ")\n",
        "\n",
        "for answer in answers:\n",
        "  print(answer)"
      ],
      "metadata": {
        "id": "mAN8MNSsMf8p"
      },
      "execution_count": null,
      "outputs": [],
      "id": "mAN8MNSsMf8p"
    },
    {
      "cell_type": "code",
      "source": [
        "from vertexai.vision_models import ImageQnAModel, Image\n",
        "\n",
        "model = ImageQnAModel.from_pretrained(\"imagetext\")\n",
        "image = Image.load_from_file(FILE_NAME)\n",
        "answers = model.ask_question(\n",
        "    image=image,\n",
        "    question=\"Are there people in this picture?\",\n",
        "    # Optional:\n",
        "    number_of_results=1,\n",
        ")\n",
        "\n",
        "print(answers)"
      ],
      "metadata": {
        "id": "vuNJZMzPNEbs"
      },
      "execution_count": null,
      "outputs": [],
      "id": "vuNJZMzPNEbs"
    },
    {
      "cell_type": "code",
      "source": [
        "from vertexai.vision_models import ImageQnAModel, Image\n",
        "\n",
        "model = ImageQnAModel.from_pretrained(\"imagetext\")\n",
        "image = Image.load_from_file(FILE_NAME)\n",
        "answers = model.ask_question(\n",
        "    image=image,\n",
        "    question=\"How would you describe this picture?\",\n",
        "    # Optional:\n",
        "    number_of_results=3,\n",
        ")\n",
        "\n",
        "print(answers)"
      ],
      "metadata": {
        "id": "gyZuG6eUNN8e"
      },
      "execution_count": null,
      "outputs": [],
      "id": "gyZuG6eUNN8e"
    },
    {
      "cell_type": "code",
      "source": [
        "from vertexai.vision_models import MultiModalEmbeddingModel, Image\n",
        "\n",
        "image = Image.load_from_file(FILE_NAME)\n",
        "embeddings_model = MultiModalEmbeddingModel.from_pretrained(\"multimodalembedding@001\")\n",
        "\n",
        "embeddings = embeddings_model.get_embeddings(\n",
        "    image=image,\n",
        "    contextual_text=PROMPT\n",
        ")\n",
        "print(len(embeddings.image_embedding))\n",
        "print(len(embeddings.text_embedding))\n",
        "print(embeddings.image_embedding)\n",
        "print(embeddings.text_embedding)"
      ],
      "metadata": {
        "id": "AqeTW0ZxNjfi"
      },
      "execution_count": null,
      "outputs": [],
      "id": "AqeTW0ZxNjfi"
    }
  ],
  "metadata": {
    "kernelspec": {
      "display_name": "Python 3",
      "language": "python",
      "name": "python3"
    },
    "language_info": {
      "codemirror_mode": {
        "name": "ipython",
        "version": 3
      },
      "file_extension": ".py",
      "mimetype": "text/x-python",
      "name": "python",
      "nbconvert_exporter": "python",
      "pygments_lexer": "ipython3",
      "version": "3.10.10"
    },
    "colab": {
      "provenance": [],
      "name": "Imagen Examples"
    }
  },
  "nbformat": 4,
  "nbformat_minor": 5
}